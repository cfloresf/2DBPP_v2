{
 "cells": [
  {
   "cell_type": "markdown",
   "id": "2db46bf7-4102-4525-affa-ddc0918ea283",
   "metadata": {},
   "source": [
    "# Bin Packing Problem"
   ]
  },
  {
   "cell_type": "markdown",
   "id": "6bf091f4-0ef4-43e5-81cd-06b0e14f4a91",
   "metadata": {},
   "source": [
    "### Descripción del problema"
   ]
  },
  {
   "cell_type": "markdown",
   "id": "2d7ae504-119d-4b4b-8435-bb4748c42df7",
   "metadata": {},
   "source": [
    "El problema de bin packing en 2D es una variación del clásico problema de bin packing, pero en este caso se trata de empacar rectángulos en un contenedor bidimensional. En lugar de un solo contenedor (o \"bin\") de una dimensión (como en el caso clásico de bin packing), el contenedor en 2D tiene un ancho y un alto definidos, y el objetivo es ubicar varios objetos rectangulares dentro de este contenedor de manera que se minimice el número de contenedores utilizados o se maximice la eficiencia del espacio dentro del contenedor dado.\n",
    "\n",
    "Descripción Formal del Problema:"
   ]
  },
  {
   "cell_type": "markdown",
   "id": "ad9821db-67eb-4684-b37a-147f47945a46",
   "metadata": {},
   "source": [
    "<img src=\"formulacion.png\">"
   ]
  },
  {
   "cell_type": "markdown",
   "id": "dd8f5aa8-b688-42c2-b601-9062b8705b23",
   "metadata": {},
   "source": [
    "Pisinger, David & Sigurd, Mikkel. (2007). Using Decomposition Techniques and Constraint Programming for Solving the Two-Dimensional Bin-Packing Problem. INFORMS Journal on Computing. 19. 36-51. 10.1287/ijoc.1060.0181. "
   ]
  },
  {
   "cell_type": "markdown",
   "id": "74ae2995-7207-4b9a-9de1-46e9dfbcd2d6",
   "metadata": {},
   "source": [
    "### Ejemplo Práctico"
   ]
  },
  {
   "cell_type": "code",
   "execution_count": 1,
   "id": "ba2cfd50-7146-41bb-9656-0bd72af29a08",
   "metadata": {},
   "outputs": [],
   "source": [
    "import pandas as pd\n",
    "import numpy as np\n",
    "import pulp"
   ]
  },
  {
   "cell_type": "markdown",
   "id": "569fbfd2-042a-49c6-975f-3f09782f787a",
   "metadata": {},
   "source": [
    "### Parámetros de Ejemplo"
   ]
  },
  {
   "cell_type": "code",
   "execution_count": 2,
   "id": "aa036c90-cfe6-478e-81d2-00b9b76fea79",
   "metadata": {},
   "outputs": [],
   "source": [
    "### Se tienen 5 tipos de articulos: A, B, C, D y E"
   ]
  },
  {
   "cell_type": "code",
   "execution_count": 3,
   "id": "22c1c348-bcb9-4a60-b36a-dfdcd7166231",
   "metadata": {},
   "outputs": [],
   "source": [
    "# ancho y largo de cada elemento\n",
    "elementos =  {\n",
    "    'A':[1,3], \n",
    "    'B':[2,6], \n",
    "    'C':[3,3],\n",
    "    'D':[4,2],\n",
    "    'E':[1,1],\n",
    "}"
   ]
  },
  {
   "cell_type": "code",
   "execution_count": 4,
   "id": "3d81e98c-ef3a-4fb3-b060-4556ebea8e75",
   "metadata": {},
   "outputs": [],
   "source": [
    "### Por cada articulo, hay n unidades"
   ]
  },
  {
   "cell_type": "code",
   "execution_count": 6,
   "id": "13edc35f-1719-4746-bdba-f7f35c7bd563",
   "metadata": {},
   "outputs": [],
   "source": [
    "# cantidad de cada elemento\n",
    "n_elementos =  {\n",
    "    'A': 7,\n",
    "    'B': 2, \n",
    "    'C': 3,\n",
    "    'D':2,\n",
    "    'E':5\n",
    "}"
   ]
  },
  {
   "cell_type": "code",
   "execution_count": 7,
   "id": "45e09a67-c116-41e5-96db-fa595d66963b",
   "metadata": {},
   "outputs": [],
   "source": [
    "### Desagrego los diccionarios, teniendo una llave para cada uno de los 21 items (8+3+3+1+6)."
   ]
  },
  {
   "cell_type": "code",
   "execution_count": 8,
   "id": "89a6e396-7771-4f51-8df1-1c6fd1952f1b",
   "metadata": {},
   "outputs": [],
   "source": [
    "articulos =  {}\n",
    "for elemento in n_elementos:\n",
    "    for n in range(n_elementos[elemento]):\n",
    "        articulos[f\"{elemento}_{n}\"] = elementos[elemento]       "
   ]
  },
  {
   "cell_type": "code",
   "execution_count": 9,
   "id": "0f7f195c-6f54-4f67-839a-047030afefcc",
   "metadata": {},
   "outputs": [],
   "source": [
    "# medidas del contenedor \n",
    "ancho_maximo = 10\n",
    "largo_maximo = 10\n",
    "contenedores = [i for i in range(20)]"
   ]
  },
  {
   "cell_type": "code",
   "execution_count": 10,
   "id": "51131794-b73a-4d29-82b6-ce3343c42ffb",
   "metadata": {},
   "outputs": [
    {
     "data": {
      "text/plain": [
       "{'A_0': [1, 3],\n",
       " 'A_1': [1, 3],\n",
       " 'A_2': [1, 3],\n",
       " 'A_3': [1, 3],\n",
       " 'A_4': [1, 3],\n",
       " 'A_5': [1, 3],\n",
       " 'A_6': [1, 3],\n",
       " 'B_0': [2, 6],\n",
       " 'B_1': [2, 6],\n",
       " 'C_0': [3, 3],\n",
       " 'C_1': [3, 3],\n",
       " 'C_2': [3, 3],\n",
       " 'D_0': [4, 2],\n",
       " 'D_1': [4, 2],\n",
       " 'E_0': [1, 1],\n",
       " 'E_1': [1, 1],\n",
       " 'E_2': [1, 1],\n",
       " 'E_3': [1, 1],\n",
       " 'E_4': [1, 1]}"
      ]
     },
     "execution_count": 10,
     "metadata": {},
     "output_type": "execute_result"
    }
   ],
   "source": [
    "articulos"
   ]
  },
  {
   "cell_type": "markdown",
   "id": "17955886-4b92-4483-99ab-0ee70b495616",
   "metadata": {},
   "source": [
    "### Formulación Matemática del Problema de Bin Packing 2D"
   ]
  },
  {
   "cell_type": "code",
   "execution_count": 11,
   "id": "c3cf0e29-6e71-4dbd-a8fd-2b59064fe0ab",
   "metadata": {},
   "outputs": [],
   "source": [
    "def get_problem(articulos, contenedores, ancho_maximo, largo_maximo):\n",
    "    problem = pulp.LpProblem(\"BPP\", pulp.LpMinimize)\n",
    "    \n",
    "    # 1 si el contenedor k es utilizado\n",
    "    v = pulp.LpVariable(\"v\", lowBound=0, cat='Continuous')\n",
    "    # 1 si el item i está a la izquierda del item j en el contenedor k\n",
    "    L = pulp.LpVariable.dicts(\"L\", ((i,j) for i in articulos for j in articulos if i!=j), lowBound=0, cat='Binary')\n",
    "    # 1 si el item i está debajo del item j\n",
    "    B = pulp.LpVariable.dicts(\"B\", ((i,j) for i in articulos for j in articulos if i!=j), lowBound=0, cat='Binary')\n",
    "    # valor para la coordenanda x de la esquina inferior izquierda del item i\n",
    "    X = pulp.LpVariable.dicts(\"X\", ((i) for i in articulos), lowBound=0, cat='Continouous')\n",
    "    # valor para la coordenanda y de la esquina inferior izquierda del item i\n",
    "    Y = pulp.LpVariable.dicts(\"Y\", ((i) for i in articulos), lowBound=0, cat='Integer')\n",
    "    # 1 si el contenedor k contiene al item Continouous\n",
    "    M = pulp.LpVariable.dicts(\"M\", ((i) for i in articulos), lowBound=1, cat='Integer')\n",
    "    #\n",
    "    P =  pulp.LpVariable.dicts(\"P\", ((i,j) for i in articulos for j in articulos if i!=j), lowBound=0, cat='Integer')\n",
    "\n",
    "    # 1 si el item i está en posicion vertical y 0 si no\n",
    "    PV = pulp.LpVariable.dicts(\"PV\", ((i) for i in articulos), lowBound=0, cat='Binary')\n",
    "    # 1 si el item i está en posicion horizontal y 0 si no\n",
    "    PH = pulp.LpVariable.dicts(\"PH\", ((i) for i in articulos), lowBound=0, cat='Binary')\n",
    "\n",
    "    # ancho del articulo\n",
    "    w = pulp.LpVariable.dicts(\"w\", ((i) for i in articulos), lowBound=0, cat='Continuous')\n",
    "    # largo del articulo i\n",
    "    h = pulp.LpVariable.dicts(\"h\", ((i) for i in articulos), lowBound=0, cat='Continuous')\n",
    "\n",
    "    # definición de la función objetivo: minimizar la cantidad de Contenedores utilizados\n",
    "    problem += v\n",
    "\n",
    "    for i in articulos:\n",
    "        # el item i solo puede estar en posicion vertical o horizontal\n",
    "        problem += pulp.lpSum(PV[(i)] + PH[(i)] ) == 1\n",
    "        # valor que tomará el ancho del articulo dependiendo la posicion\n",
    "        problem += w[(i)] == PV[(i)]*articulos[i][0] + PH[(i)] *articulos[i][1] \n",
    "        # valor que tomará el largo del articulo dependiendo la posicion\n",
    "        problem += h[(i)] == PV[(i)]*articulos[i][1] + PH[(i)] *articulos[i][0] \n",
    "\n",
    "    for i in articulos:\n",
    "        for j in articulos:\n",
    "            if i!=j:\n",
    "                # 1 articulo puede estar abajo o arriba de otro o a la derecha o la izquierda de otro\n",
    "                problem += 1 <= L[(i,j)] +  L[(j,i)] + B[(i,j)] + B[(j,i)]+ P[(i,j)] + P[(j,i)]\n",
    "                # ancho\n",
    "                problem += X[(i)] - X[(j)] + ancho_maximo * L[(i,j)] <= ancho_maximo - w[(i)]\n",
    "                # largo\n",
    "                problem += Y[(i)] - Y[(j)] + largo_maximo * B[(i,j)] <= largo_maximo - h[(i)]\n",
    "\n",
    "                problem += M[(i)] -  M[(j)] + len(articulos) * P[(i,j)] <=  len(articulos) -1\n",
    "\n",
    "    for i in articulos:\n",
    "        # no se pueden sobrepasar los limites máximos del contenedor\n",
    "\n",
    "        # caso ancho\n",
    "        problem += X[(i)]  <= ancho_maximo - w[(i)]\n",
    "        # caso largo\n",
    "        problem += Y[(i)]  <= largo_maximo - h[(i)]\n",
    "        \n",
    "        # actualizacion variable v\n",
    "        problem += 1 <= M[(i)] \n",
    "        problem += M[(i)] <= v\n",
    "    \n",
    "\n",
    "    return problem, v, L, B, X, Y, M,P, PV, PH"
   ]
  },
  {
   "cell_type": "markdown",
   "id": "eb145ae4-9650-4b8d-b3c9-91d4bbdbe07d",
   "metadata": {},
   "source": [
    "### Solución del Problema"
   ]
  },
  {
   "cell_type": "code",
   "execution_count": 12,
   "id": "16e62b3c-98ae-4871-a8ed-28fc26b72f79",
   "metadata": {},
   "outputs": [],
   "source": [
    "M = 10000\n",
    "modelo, v, L, B, X, Y, M, P, PV, PH= get_problem(articulos, contenedores, ancho_maximo, largo_maximo)"
   ]
  },
  {
   "cell_type": "code",
   "execution_count": 13,
   "id": "dfbff274-3af7-491a-bd9f-b40b68186158",
   "metadata": {},
   "outputs": [
    {
     "data": {
      "text/plain": [
       "1"
      ]
     },
     "execution_count": 13,
     "metadata": {},
     "output_type": "execute_result"
    }
   ],
   "source": [
    "modelo.solve(pulp.PULP_CBC_CMD(msg=True))"
   ]
  },
  {
   "cell_type": "code",
   "execution_count": 14,
   "id": "d8d0d56e-be26-415b-a851-bbcf24ab7a99",
   "metadata": {},
   "outputs": [
    {
     "name": "stdout",
     "output_type": "stream",
     "text": [
      "Estado: Optimal\n",
      "Cantidad de Contenedores mínimos: 1.0 contenedores\n"
     ]
    }
   ],
   "source": [
    "# Imprimir resultados\n",
    "print(f\"Estado: {pulp.LpStatus[modelo.status]}\")\n",
    "print(f\"Cantidad de Contenedores mínimos: {pulp.value(modelo.objective)} contenedores\")"
   ]
  },
  {
   "cell_type": "code",
   "execution_count": 15,
   "id": "a6378bfa-dfaa-4a4a-95cb-6c4f2f3b19a0",
   "metadata": {},
   "outputs": [
    {
     "name": "stdout",
     "output_type": "stream",
     "text": [
      "Coordenadas (X,Y)  del articulo A_0: (9.0, 3.0) en posición vertical \n",
      "Coordenadas (X,Y)  del articulo A_1: (0.0, 5.0) en posición vertical \n",
      "Coordenadas (X,Y)  del articulo A_2: (2.0, 0.0) en posición vertical \n",
      "Coordenadas (X,Y)  del articulo A_3: (2.0, 5.0) en posición horizontal \n",
      "Coordenadas (X,Y)  del articulo A_4: (0.0, 0.0) en posición vertical \n",
      "Coordenadas (X,Y)  del articulo A_5: (1.0, 0.0) en posición vertical \n",
      "Coordenadas (X,Y)  del articulo A_6: (9.0, 0.0) en posición vertical \n",
      "Coordenadas (X,Y)  del articulo B_0: (4.0, 8.0) en posición horizontal \n",
      "Coordenadas (X,Y)  del articulo B_1: (4.0, 6.0) en posición horizontal \n",
      "Coordenadas (X,Y)  del articulo C_0: (6.0, 0.0) en posición vertical \n",
      "Coordenadas (X,Y)  del articulo C_1: (3.0, 0.0) en posición vertical \n",
      "Coordenadas (X,Y)  del articulo C_2: (1.0, 6.0) en posición vertical \n",
      "Coordenadas (X,Y)  del articulo D_0: (4.0, 3.0) en posición vertical \n",
      "Coordenadas (X,Y)  del articulo D_1: (0.0, 3.0) en posición vertical \n",
      "Coordenadas (X,Y)  del articulo E_0: (8.0, 3.0) en posición horizontal \n",
      "Coordenadas (X,Y)  del articulo E_1: (1.0, 5.0) en posición horizontal \n",
      "Coordenadas (X,Y)  del articulo E_2: (3.0, 9.0) en posición vertical \n",
      "Coordenadas (X,Y)  del articulo E_3: (1.0, 9.0) en posición horizontal \n",
      "Coordenadas (X,Y)  del articulo E_4: (0.0, 9.0) en posición vertical \n"
     ]
    }
   ],
   "source": [
    "posiciones_list = []\n",
    "xs = []\n",
    "ys = []\n",
    "for i in articulos:\n",
    "    if 1==PV[(i)].varValue :\n",
    "        posicion = 'vertical'\n",
    "    else:\n",
    "        posicion = 'horizontal'\n",
    "    print(f\"Coordenadas (X,Y)  del articulo {i}: {X[(i)].varValue,Y[(i)].varValue} en posición {posicion} \" )\n",
    "    xs.append(X[(i)].varValue)\n",
    "    ys.append(Y[(i)].varValue)\n",
    "    posiciones_list.append(posicion)"
   ]
  },
  {
   "cell_type": "markdown",
   "id": "66ef7e97-1989-4a4c-8310-8c36d2ce60b6",
   "metadata": {},
   "source": [
    "### Post Procesamiento de los Resultados"
   ]
  },
  {
   "cell_type": "code",
   "execution_count": 16,
   "id": "f0dada92-5cce-4e2d-afa7-0cc25d7a7036",
   "metadata": {},
   "outputs": [],
   "source": [
    "dic = {\n",
    "    \"articulo\" : articulos.keys(),\n",
    "    \"x\": xs,\n",
    "    \"y\" : ys,\n",
    "    \"posicion\":posiciones_list\n",
    "}\n",
    "output = pd.DataFrame(dic)"
   ]
  },
  {
   "cell_type": "code",
   "execution_count": 17,
   "id": "e763efaa-c6d6-4489-9afd-137d85e0e7f1",
   "metadata": {},
   "outputs": [],
   "source": [
    "output[\"ancho\"] = output[\"articulo\"].map(articulos)\n",
    "output[\"largo\"] = [x[1] for x in output[\"ancho\"]]\n",
    "output[\"ancho\"] = [x[0] for x in output[\"ancho\"]]"
   ]
  },
  {
   "cell_type": "code",
   "execution_count": 18,
   "id": "bf607cec-3017-43f9-8af8-c7fff5cba52c",
   "metadata": {},
   "outputs": [],
   "source": [
    "output[\"ancho_aux\"] = np.where(output[\"posicion\"] == 'horizontal'\n",
    "                               ,output[\"largo\"]\n",
    "                               ,output[\"ancho\"]\n",
    "                              )\n",
    "output[\"largo_aux\"] = np.where(output[\"posicion\"] == 'horizontal'\n",
    "                               ,output[\"ancho\"]\n",
    "                               ,output[\"largo\"]\n",
    "                              )"
   ]
  },
  {
   "cell_type": "code",
   "execution_count": 26,
   "id": "9bbb40dd-f486-4fdf-8958-d47433e2bf22",
   "metadata": {},
   "outputs": [],
   "source": [
    "output = output.sort_values(by = [\"x\",\"y\"])"
   ]
  },
  {
   "cell_type": "code",
   "execution_count": 28,
   "id": "da6efec1-5854-4452-90ff-fbd052591429",
   "metadata": {},
   "outputs": [],
   "source": [
    "output.reset_index(drop = True, inplace = True)"
   ]
  },
  {
   "cell_type": "markdown",
   "id": "6d323119-c48c-4615-aff4-4d9a398a4643",
   "metadata": {},
   "source": [
    "### Resultados gráficos"
   ]
  },
  {
   "cell_type": "code",
   "execution_count": 30,
   "id": "9b10a69e-6a94-4bc1-ae08-07f3e786c450",
   "metadata": {},
   "outputs": [
    {
     "data": {
      "application/vnd.plotly.v1+json": {
       "config": {
        "plotlyServerURL": "https://plot.ly"
       },
       "data": [],
       "frames": [
        {
         "data": [
          {
           "mode": "markers",
           "type": "scatter",
           "x": [
            0
           ],
           "y": [
            0
           ]
          }
         ],
         "name": "Frame_0"
        },
        {
         "data": [
          {
           "mode": "markers",
           "type": "scatter",
           "x": [
            0
           ],
           "y": [
            0
           ]
          }
         ],
         "name": "Frame_1"
        },
        {
         "data": [
          {
           "mode": "markers",
           "type": "scatter",
           "x": [
            0
           ],
           "y": [
            0
           ]
          }
         ],
         "name": "Frame_2"
        },
        {
         "data": [
          {
           "mode": "markers",
           "type": "scatter",
           "x": [
            0
           ],
           "y": [
            0
           ]
          }
         ],
         "name": "Frame_3"
        },
        {
         "data": [
          {
           "mode": "markers",
           "type": "scatter",
           "x": [
            0
           ],
           "y": [
            0
           ]
          }
         ],
         "name": "Frame_4"
        },
        {
         "data": [
          {
           "mode": "markers",
           "type": "scatter",
           "x": [
            0
           ],
           "y": [
            0
           ]
          }
         ],
         "name": "Frame_5"
        },
        {
         "data": [
          {
           "mode": "markers",
           "type": "scatter",
           "x": [
            0
           ],
           "y": [
            0
           ]
          }
         ],
         "name": "Frame_6"
        },
        {
         "data": [
          {
           "mode": "markers",
           "type": "scatter",
           "x": [
            0
           ],
           "y": [
            0
           ]
          }
         ],
         "name": "Frame_7"
        },
        {
         "data": [
          {
           "mode": "markers",
           "type": "scatter",
           "x": [
            0
           ],
           "y": [
            0
           ]
          }
         ],
         "name": "Frame_8"
        },
        {
         "data": [
          {
           "mode": "markers",
           "type": "scatter",
           "x": [
            0
           ],
           "y": [
            0
           ]
          }
         ],
         "name": "Frame_9"
        },
        {
         "data": [
          {
           "mode": "markers",
           "type": "scatter",
           "x": [
            0
           ],
           "y": [
            0
           ]
          }
         ],
         "name": "Frame_10"
        },
        {
         "data": [
          {
           "mode": "markers",
           "type": "scatter",
           "x": [
            0
           ],
           "y": [
            0
           ]
          }
         ],
         "name": "Frame_11"
        },
        {
         "data": [
          {
           "mode": "markers",
           "type": "scatter",
           "x": [
            0
           ],
           "y": [
            0
           ]
          }
         ],
         "name": "Frame_12"
        },
        {
         "data": [
          {
           "mode": "markers",
           "type": "scatter",
           "x": [
            0
           ],
           "y": [
            0
           ]
          }
         ],
         "name": "Frame_13"
        },
        {
         "data": [
          {
           "mode": "markers",
           "type": "scatter",
           "x": [
            0
           ],
           "y": [
            0
           ]
          }
         ],
         "name": "Frame_14"
        },
        {
         "data": [
          {
           "mode": "markers",
           "type": "scatter",
           "x": [
            0
           ],
           "y": [
            0
           ]
          }
         ],
         "name": "Frame_15"
        },
        {
         "data": [
          {
           "mode": "markers",
           "type": "scatter",
           "x": [
            0
           ],
           "y": [
            0
           ]
          }
         ],
         "name": "Frame_16"
        },
        {
         "data": [
          {
           "mode": "markers",
           "type": "scatter",
           "x": [
            0
           ],
           "y": [
            0
           ]
          }
         ],
         "name": "Frame_17"
        },
        {
         "data": [
          {
           "mode": "markers",
           "type": "scatter",
           "x": [
            0
           ],
           "y": [
            0
           ]
          }
         ],
         "name": "Frame_18"
        }
       ],
       "layout": {
        "height": 700,
        "plot_bgcolor": "white",
        "shapes": [
         {
          "fillcolor": "white",
          "line": {
           "color": "black",
           "width": 4
          },
          "opacity": 0.2,
          "type": "rect",
          "x0": 0,
          "x1": 10,
          "y0": 0,
          "y1": 10
         },
         {
          "fillcolor": "orange",
          "line": {
           "color": "blue",
           "width": 2
          },
          "opacity": 0.5,
          "type": "rect",
          "x0": 0,
          "x1": 1,
          "y0": 0,
          "y1": 3
         },
         {
          "fillcolor": "lightblue",
          "line": {
           "color": "blue",
           "width": 2
          },
          "opacity": 0.5,
          "type": "rect",
          "x0": 0,
          "x1": 4,
          "y0": 3,
          "y1": 5
         },
         {
          "fillcolor": "orange",
          "line": {
           "color": "blue",
           "width": 2
          },
          "opacity": 0.5,
          "type": "rect",
          "x0": 0,
          "x1": 1,
          "y0": 5,
          "y1": 8
         },
         {
          "fillcolor": "red",
          "line": {
           "color": "blue",
           "width": 2
          },
          "opacity": 0.5,
          "type": "rect",
          "x0": 0,
          "x1": 1,
          "y0": 9,
          "y1": 10
         },
         {
          "fillcolor": "orange",
          "line": {
           "color": "blue",
           "width": 2
          },
          "opacity": 0.5,
          "type": "rect",
          "x0": 1,
          "x1": 2,
          "y0": 0,
          "y1": 3
         },
         {
          "fillcolor": "red",
          "line": {
           "color": "blue",
           "width": 2
          },
          "opacity": 0.5,
          "type": "rect",
          "x0": 1,
          "x1": 2,
          "y0": 5,
          "y1": 6
         },
         {
          "fillcolor": "purple",
          "line": {
           "color": "blue",
           "width": 2
          },
          "opacity": 0.5,
          "type": "rect",
          "x0": 1,
          "x1": 4,
          "y0": 6,
          "y1": 9
         },
         {
          "fillcolor": "red",
          "line": {
           "color": "blue",
           "width": 2
          },
          "opacity": 0.5,
          "type": "rect",
          "x0": 1,
          "x1": 2,
          "y0": 9,
          "y1": 10
         },
         {
          "fillcolor": "orange",
          "line": {
           "color": "blue",
           "width": 2
          },
          "opacity": 0.5,
          "type": "rect",
          "x0": 2,
          "x1": 3,
          "y0": 0,
          "y1": 3
         },
         {
          "fillcolor": "orange",
          "line": {
           "color": "blue",
           "width": 2
          },
          "opacity": 0.5,
          "type": "rect",
          "x0": 2,
          "x1": 5,
          "y0": 5,
          "y1": 6
         },
         {
          "fillcolor": "purple",
          "line": {
           "color": "blue",
           "width": 2
          },
          "opacity": 0.5,
          "type": "rect",
          "x0": 3,
          "x1": 6,
          "y0": 0,
          "y1": 3
         },
         {
          "fillcolor": "red",
          "line": {
           "color": "blue",
           "width": 2
          },
          "opacity": 0.5,
          "type": "rect",
          "x0": 3,
          "x1": 4,
          "y0": 9,
          "y1": 10
         },
         {
          "fillcolor": "lightblue",
          "line": {
           "color": "blue",
           "width": 2
          },
          "opacity": 0.5,
          "type": "rect",
          "x0": 4,
          "x1": 8,
          "y0": 3,
          "y1": 5
         },
         {
          "fillcolor": "lightgreen",
          "line": {
           "color": "blue",
           "width": 2
          },
          "opacity": 0.5,
          "type": "rect",
          "x0": 4,
          "x1": 10,
          "y0": 6,
          "y1": 8
         },
         {
          "fillcolor": "lightgreen",
          "line": {
           "color": "blue",
           "width": 2
          },
          "opacity": 0.5,
          "type": "rect",
          "x0": 4,
          "x1": 10,
          "y0": 8,
          "y1": 10
         },
         {
          "fillcolor": "purple",
          "line": {
           "color": "blue",
           "width": 2
          },
          "opacity": 0.5,
          "type": "rect",
          "x0": 6,
          "x1": 9,
          "y0": 0,
          "y1": 3
         },
         {
          "fillcolor": "red",
          "line": {
           "color": "blue",
           "width": 2
          },
          "opacity": 0.5,
          "type": "rect",
          "x0": 8,
          "x1": 9,
          "y0": 3,
          "y1": 4
         },
         {
          "fillcolor": "orange",
          "line": {
           "color": "blue",
           "width": 2
          },
          "opacity": 0.5,
          "type": "rect",
          "x0": 9,
          "x1": 10,
          "y0": 0,
          "y1": 3
         },
         {
          "fillcolor": "orange",
          "line": {
           "color": "blue",
           "width": 2
          },
          "opacity": 0.5,
          "type": "rect",
          "x0": 9,
          "x1": 10,
          "y0": 3,
          "y1": 6
         }
        ],
        "showlegend": false,
        "template": {
         "data": {
          "bar": [
           {
            "error_x": {
             "color": "#2a3f5f"
            },
            "error_y": {
             "color": "#2a3f5f"
            },
            "marker": {
             "line": {
              "color": "#E5ECF6",
              "width": 0.5
             },
             "pattern": {
              "fillmode": "overlay",
              "size": 10,
              "solidity": 0.2
             }
            },
            "type": "bar"
           }
          ],
          "barpolar": [
           {
            "marker": {
             "line": {
              "color": "#E5ECF6",
              "width": 0.5
             },
             "pattern": {
              "fillmode": "overlay",
              "size": 10,
              "solidity": 0.2
             }
            },
            "type": "barpolar"
           }
          ],
          "carpet": [
           {
            "aaxis": {
             "endlinecolor": "#2a3f5f",
             "gridcolor": "white",
             "linecolor": "white",
             "minorgridcolor": "white",
             "startlinecolor": "#2a3f5f"
            },
            "baxis": {
             "endlinecolor": "#2a3f5f",
             "gridcolor": "white",
             "linecolor": "white",
             "minorgridcolor": "white",
             "startlinecolor": "#2a3f5f"
            },
            "type": "carpet"
           }
          ],
          "choropleth": [
           {
            "colorbar": {
             "outlinewidth": 0,
             "ticks": ""
            },
            "type": "choropleth"
           }
          ],
          "contour": [
           {
            "colorbar": {
             "outlinewidth": 0,
             "ticks": ""
            },
            "colorscale": [
             [
              0,
              "#0d0887"
             ],
             [
              0.1111111111111111,
              "#46039f"
             ],
             [
              0.2222222222222222,
              "#7201a8"
             ],
             [
              0.3333333333333333,
              "#9c179e"
             ],
             [
              0.4444444444444444,
              "#bd3786"
             ],
             [
              0.5555555555555556,
              "#d8576b"
             ],
             [
              0.6666666666666666,
              "#ed7953"
             ],
             [
              0.7777777777777778,
              "#fb9f3a"
             ],
             [
              0.8888888888888888,
              "#fdca26"
             ],
             [
              1,
              "#f0f921"
             ]
            ],
            "type": "contour"
           }
          ],
          "contourcarpet": [
           {
            "colorbar": {
             "outlinewidth": 0,
             "ticks": ""
            },
            "type": "contourcarpet"
           }
          ],
          "heatmap": [
           {
            "colorbar": {
             "outlinewidth": 0,
             "ticks": ""
            },
            "colorscale": [
             [
              0,
              "#0d0887"
             ],
             [
              0.1111111111111111,
              "#46039f"
             ],
             [
              0.2222222222222222,
              "#7201a8"
             ],
             [
              0.3333333333333333,
              "#9c179e"
             ],
             [
              0.4444444444444444,
              "#bd3786"
             ],
             [
              0.5555555555555556,
              "#d8576b"
             ],
             [
              0.6666666666666666,
              "#ed7953"
             ],
             [
              0.7777777777777778,
              "#fb9f3a"
             ],
             [
              0.8888888888888888,
              "#fdca26"
             ],
             [
              1,
              "#f0f921"
             ]
            ],
            "type": "heatmap"
           }
          ],
          "heatmapgl": [
           {
            "colorbar": {
             "outlinewidth": 0,
             "ticks": ""
            },
            "colorscale": [
             [
              0,
              "#0d0887"
             ],
             [
              0.1111111111111111,
              "#46039f"
             ],
             [
              0.2222222222222222,
              "#7201a8"
             ],
             [
              0.3333333333333333,
              "#9c179e"
             ],
             [
              0.4444444444444444,
              "#bd3786"
             ],
             [
              0.5555555555555556,
              "#d8576b"
             ],
             [
              0.6666666666666666,
              "#ed7953"
             ],
             [
              0.7777777777777778,
              "#fb9f3a"
             ],
             [
              0.8888888888888888,
              "#fdca26"
             ],
             [
              1,
              "#f0f921"
             ]
            ],
            "type": "heatmapgl"
           }
          ],
          "histogram": [
           {
            "marker": {
             "pattern": {
              "fillmode": "overlay",
              "size": 10,
              "solidity": 0.2
             }
            },
            "type": "histogram"
           }
          ],
          "histogram2d": [
           {
            "colorbar": {
             "outlinewidth": 0,
             "ticks": ""
            },
            "colorscale": [
             [
              0,
              "#0d0887"
             ],
             [
              0.1111111111111111,
              "#46039f"
             ],
             [
              0.2222222222222222,
              "#7201a8"
             ],
             [
              0.3333333333333333,
              "#9c179e"
             ],
             [
              0.4444444444444444,
              "#bd3786"
             ],
             [
              0.5555555555555556,
              "#d8576b"
             ],
             [
              0.6666666666666666,
              "#ed7953"
             ],
             [
              0.7777777777777778,
              "#fb9f3a"
             ],
             [
              0.8888888888888888,
              "#fdca26"
             ],
             [
              1,
              "#f0f921"
             ]
            ],
            "type": "histogram2d"
           }
          ],
          "histogram2dcontour": [
           {
            "colorbar": {
             "outlinewidth": 0,
             "ticks": ""
            },
            "colorscale": [
             [
              0,
              "#0d0887"
             ],
             [
              0.1111111111111111,
              "#46039f"
             ],
             [
              0.2222222222222222,
              "#7201a8"
             ],
             [
              0.3333333333333333,
              "#9c179e"
             ],
             [
              0.4444444444444444,
              "#bd3786"
             ],
             [
              0.5555555555555556,
              "#d8576b"
             ],
             [
              0.6666666666666666,
              "#ed7953"
             ],
             [
              0.7777777777777778,
              "#fb9f3a"
             ],
             [
              0.8888888888888888,
              "#fdca26"
             ],
             [
              1,
              "#f0f921"
             ]
            ],
            "type": "histogram2dcontour"
           }
          ],
          "mesh3d": [
           {
            "colorbar": {
             "outlinewidth": 0,
             "ticks": ""
            },
            "type": "mesh3d"
           }
          ],
          "parcoords": [
           {
            "line": {
             "colorbar": {
              "outlinewidth": 0,
              "ticks": ""
             }
            },
            "type": "parcoords"
           }
          ],
          "pie": [
           {
            "automargin": true,
            "type": "pie"
           }
          ],
          "scatter": [
           {
            "fillpattern": {
             "fillmode": "overlay",
             "size": 10,
             "solidity": 0.2
            },
            "type": "scatter"
           }
          ],
          "scatter3d": [
           {
            "line": {
             "colorbar": {
              "outlinewidth": 0,
              "ticks": ""
             }
            },
            "marker": {
             "colorbar": {
              "outlinewidth": 0,
              "ticks": ""
             }
            },
            "type": "scatter3d"
           }
          ],
          "scattercarpet": [
           {
            "marker": {
             "colorbar": {
              "outlinewidth": 0,
              "ticks": ""
             }
            },
            "type": "scattercarpet"
           }
          ],
          "scattergeo": [
           {
            "marker": {
             "colorbar": {
              "outlinewidth": 0,
              "ticks": ""
             }
            },
            "type": "scattergeo"
           }
          ],
          "scattergl": [
           {
            "marker": {
             "colorbar": {
              "outlinewidth": 0,
              "ticks": ""
             }
            },
            "type": "scattergl"
           }
          ],
          "scattermapbox": [
           {
            "marker": {
             "colorbar": {
              "outlinewidth": 0,
              "ticks": ""
             }
            },
            "type": "scattermapbox"
           }
          ],
          "scatterpolar": [
           {
            "marker": {
             "colorbar": {
              "outlinewidth": 0,
              "ticks": ""
             }
            },
            "type": "scatterpolar"
           }
          ],
          "scatterpolargl": [
           {
            "marker": {
             "colorbar": {
              "outlinewidth": 0,
              "ticks": ""
             }
            },
            "type": "scatterpolargl"
           }
          ],
          "scatterternary": [
           {
            "marker": {
             "colorbar": {
              "outlinewidth": 0,
              "ticks": ""
             }
            },
            "type": "scatterternary"
           }
          ],
          "surface": [
           {
            "colorbar": {
             "outlinewidth": 0,
             "ticks": ""
            },
            "colorscale": [
             [
              0,
              "#0d0887"
             ],
             [
              0.1111111111111111,
              "#46039f"
             ],
             [
              0.2222222222222222,
              "#7201a8"
             ],
             [
              0.3333333333333333,
              "#9c179e"
             ],
             [
              0.4444444444444444,
              "#bd3786"
             ],
             [
              0.5555555555555556,
              "#d8576b"
             ],
             [
              0.6666666666666666,
              "#ed7953"
             ],
             [
              0.7777777777777778,
              "#fb9f3a"
             ],
             [
              0.8888888888888888,
              "#fdca26"
             ],
             [
              1,
              "#f0f921"
             ]
            ],
            "type": "surface"
           }
          ],
          "table": [
           {
            "cells": {
             "fill": {
              "color": "#EBF0F8"
             },
             "line": {
              "color": "white"
             }
            },
            "header": {
             "fill": {
              "color": "#C8D4E3"
             },
             "line": {
              "color": "white"
             }
            },
            "type": "table"
           }
          ]
         },
         "layout": {
          "annotationdefaults": {
           "arrowcolor": "#2a3f5f",
           "arrowhead": 0,
           "arrowwidth": 1
          },
          "autotypenumbers": "strict",
          "coloraxis": {
           "colorbar": {
            "outlinewidth": 0,
            "ticks": ""
           }
          },
          "colorscale": {
           "diverging": [
            [
             0,
             "#8e0152"
            ],
            [
             0.1,
             "#c51b7d"
            ],
            [
             0.2,
             "#de77ae"
            ],
            [
             0.3,
             "#f1b6da"
            ],
            [
             0.4,
             "#fde0ef"
            ],
            [
             0.5,
             "#f7f7f7"
            ],
            [
             0.6,
             "#e6f5d0"
            ],
            [
             0.7,
             "#b8e186"
            ],
            [
             0.8,
             "#7fbc41"
            ],
            [
             0.9,
             "#4d9221"
            ],
            [
             1,
             "#276419"
            ]
           ],
           "sequential": [
            [
             0,
             "#0d0887"
            ],
            [
             0.1111111111111111,
             "#46039f"
            ],
            [
             0.2222222222222222,
             "#7201a8"
            ],
            [
             0.3333333333333333,
             "#9c179e"
            ],
            [
             0.4444444444444444,
             "#bd3786"
            ],
            [
             0.5555555555555556,
             "#d8576b"
            ],
            [
             0.6666666666666666,
             "#ed7953"
            ],
            [
             0.7777777777777778,
             "#fb9f3a"
            ],
            [
             0.8888888888888888,
             "#fdca26"
            ],
            [
             1,
             "#f0f921"
            ]
           ],
           "sequentialminus": [
            [
             0,
             "#0d0887"
            ],
            [
             0.1111111111111111,
             "#46039f"
            ],
            [
             0.2222222222222222,
             "#7201a8"
            ],
            [
             0.3333333333333333,
             "#9c179e"
            ],
            [
             0.4444444444444444,
             "#bd3786"
            ],
            [
             0.5555555555555556,
             "#d8576b"
            ],
            [
             0.6666666666666666,
             "#ed7953"
            ],
            [
             0.7777777777777778,
             "#fb9f3a"
            ],
            [
             0.8888888888888888,
             "#fdca26"
            ],
            [
             1,
             "#f0f921"
            ]
           ]
          },
          "colorway": [
           "#636efa",
           "#EF553B",
           "#00cc96",
           "#ab63fa",
           "#FFA15A",
           "#19d3f3",
           "#FF6692",
           "#B6E880",
           "#FF97FF",
           "#FECB52"
          ],
          "font": {
           "color": "#2a3f5f"
          },
          "geo": {
           "bgcolor": "white",
           "lakecolor": "white",
           "landcolor": "#E5ECF6",
           "showlakes": true,
           "showland": true,
           "subunitcolor": "white"
          },
          "hoverlabel": {
           "align": "left"
          },
          "hovermode": "closest",
          "mapbox": {
           "style": "light"
          },
          "paper_bgcolor": "white",
          "plot_bgcolor": "#E5ECF6",
          "polar": {
           "angularaxis": {
            "gridcolor": "white",
            "linecolor": "white",
            "ticks": ""
           },
           "bgcolor": "#E5ECF6",
           "radialaxis": {
            "gridcolor": "white",
            "linecolor": "white",
            "ticks": ""
           }
          },
          "scene": {
           "xaxis": {
            "backgroundcolor": "#E5ECF6",
            "gridcolor": "white",
            "gridwidth": 2,
            "linecolor": "white",
            "showbackground": true,
            "ticks": "",
            "zerolinecolor": "white"
           },
           "yaxis": {
            "backgroundcolor": "#E5ECF6",
            "gridcolor": "white",
            "gridwidth": 2,
            "linecolor": "white",
            "showbackground": true,
            "ticks": "",
            "zerolinecolor": "white"
           },
           "zaxis": {
            "backgroundcolor": "#E5ECF6",
            "gridcolor": "white",
            "gridwidth": 2,
            "linecolor": "white",
            "showbackground": true,
            "ticks": "",
            "zerolinecolor": "white"
           }
          },
          "shapedefaults": {
           "line": {
            "color": "#2a3f5f"
           }
          },
          "ternary": {
           "aaxis": {
            "gridcolor": "white",
            "linecolor": "white",
            "ticks": ""
           },
           "baxis": {
            "gridcolor": "white",
            "linecolor": "white",
            "ticks": ""
           },
           "bgcolor": "#E5ECF6",
           "caxis": {
            "gridcolor": "white",
            "linecolor": "white",
            "ticks": ""
           }
          },
          "title": {
           "x": 0.05
          },
          "xaxis": {
           "automargin": true,
           "gridcolor": "white",
           "linecolor": "white",
           "ticks": "",
           "title": {
            "standoff": 15
           },
           "zerolinecolor": "white",
           "zerolinewidth": 2
          },
          "yaxis": {
           "automargin": true,
           "gridcolor": "white",
           "linecolor": "white",
           "ticks": "",
           "title": {
            "standoff": 15
           },
           "zerolinecolor": "white",
           "zerolinewidth": 2
          }
         }
        },
        "title": {
         "text": "Bin Packing"
        },
        "updatemenus": [
         {
          "buttons": [
           {
            "args": [
             null,
             {
              "frame": {
               "duration": 1000,
               "redraw": true
              },
              "fromcurrent": true
             }
            ],
            "label": "Play",
            "method": "animate"
           }
          ],
          "type": "buttons",
          "x": 0.1,
          "xanchor": "right",
          "y": 0,
          "yanchor": "bottom"
         }
        ],
        "width": 700,
        "xaxis": {
         "range": [
          -1,
          11
         ]
        },
        "yaxis": {
         "range": [
          -1,
          11
         ]
        }
       }
      },
      "image/png": "[encoded data removed]",
      "text/html": [
       "<div>                            <div id=\"4f95b3b9-9416-4632-8652-d5bc5f7bbb1b\" class=\"plotly-graph-div\" style=\"height:700px; width:700px;\"></div>            <script type=\"text/javascript\">                require([\"plotly\"], function(Plotly) {                    window.PLOTLYENV=window.PLOTLYENV || {};                                    if (document.getElementById(\"4f95b3b9-9416-4632-8652-d5bc5f7bbb1b\")) {                    Plotly.newPlot(                        \"4f95b3b9-9416-4632-8652-d5bc5f7bbb1b\",                        [],                        {\"template\":{\"data\":{\"histogram2dcontour\":[{\"type\":\"histogram2dcontour\",\"colorbar\":{\"outlinewidth\":0,\"ticks\":\"\"},\"colorscale\":[[0.0,\"#0d0887\"],[0.1111111111111111,\"#46039f\"],[0.2222222222222222,\"#7201a8\"],[0.3333333333333333,\"#9c179e\"],[0.4444444444444444,\"#bd3786\"],[0.5555555555555556,\"#d8576b\"],[0.6666666666666666,\"#ed7953\"],[0.7777777777777778,\"#fb9f3a\"],[0.8888888888888888,\"#fdca26\"],[1.0,\"#f0f921\"]]}],\"choropleth\":[{\"type\":\"choropleth\",\"colorbar\":{\"outlinewidth\":0,\"ticks\":\"\"}}],\"histogram2d\":[{\"type\":\"histogram2d\",\"colorbar\":{\"outlinewidth\":0,\"ticks\":\"\"},\"colorscale\":[[0.0,\"#0d0887\"],[0.1111111111111111,\"#46039f\"],[0.2222222222222222,\"#7201a8\"],[0.3333333333333333,\"#9c179e\"],[0.4444444444444444,\"#bd3786\"],[0.5555555555555556,\"#d8576b\"],[0.6666666666666666,\"#ed7953\"],[0.7777777777777778,\"#fb9f3a\"],[0.8888888888888888,\"#fdca26\"],[1.0,\"#f0f921\"]]}],\"heatmap\":[{\"type\":\"heatmap\",\"colorbar\":{\"outlinewidth\":0,\"ticks\":\"\"},\"colorscale\":[[0.0,\"#0d0887\"],[0.1111111111111111,\"#46039f\"],[0.2222222222222222,\"#7201a8\"],[0.3333333333333333,\"#9c179e\"],[0.4444444444444444,\"#bd3786\"],[0.5555555555555556,\"#d8576b\"],[0.6666666666666666,\"#ed7953\"],[0.7777777777777778,\"#fb9f3a\"],[0.8888888888888888,\"#fdca26\"],[1.0,\"#f0f921\"]]}],\"heatmapgl\":[{\"type\":\"heatmapgl\",\"colorbar\":{\"outlinewidth\":0,\"ticks\":\"\"},\"colorscale\":[[0.0,\"#0d0887\"],[0.1111111111111111,\"#46039f\"],[0.2222222222222222,\"#7201a8\"],[0.3333333333333333,\"#9c179e\"],[0.4444444444444444,\"#bd3786\"],[0.5555555555555556,\"#d8576b\"],[0.6666666666666666,\"#ed7953\"],[0.7777777777777778,\"#fb9f3a\"],[0.8888888888888888,\"#fdca26\"],[1.0,\"#f0f921\"]]}],\"contourcarpet\":[{\"type\":\"contourcarpet\",\"colorbar\":{\"outlinewidth\":0,\"ticks\":\"\"}}],\"contour\":[{\"type\":\"contour\",\"colorbar\":{\"outlinewidth\":0,\"ticks\":\"\"},\"colorscale\":[[0.0,\"#0d0887\"],[0.1111111111111111,\"#46039f\"],[0.2222222222222222,\"#7201a8\"],[0.3333333333333333,\"#9c179e\"],[0.4444444444444444,\"#bd3786\"],[0.5555555555555556,\"#d8576b\"],[0.6666666666666666,\"#ed7953\"],[0.7777777777777778,\"#fb9f3a\"],[0.8888888888888888,\"#fdca26\"],[1.0,\"#f0f921\"]]}],\"surface\":[{\"type\":\"surface\",\"colorbar\":{\"outlinewidth\":0,\"ticks\":\"\"},\"colorscale\":[[0.0,\"#0d0887\"],[0.1111111111111111,\"#46039f\"],[0.2222222222222222,\"#7201a8\"],[0.3333333333333333,\"#9c179e\"],[0.4444444444444444,\"#bd3786\"],[0.5555555555555556,\"#d8576b\"],[0.6666666666666666,\"#ed7953\"],[0.7777777777777778,\"#fb9f3a\"],[0.8888888888888888,\"#fdca26\"],[1.0,\"#f0f921\"]]}],\"mesh3d\":[{\"type\":\"mesh3d\",\"colorbar\":{\"outlinewidth\":0,\"ticks\":\"\"}}],\"scatter\":[{\"fillpattern\":{\"fillmode\":\"overlay\",\"size\":10,\"solidity\":0.2},\"type\":\"scatter\"}],\"parcoords\":[{\"type\":\"parcoords\",\"line\":{\"colorbar\":{\"outlinewidth\":0,\"ticks\":\"\"}}}],\"scatterpolargl\":[{\"type\":\"scatterpolargl\",\"marker\":{\"colorbar\":{\"outlinewidth\":0,\"ticks\":\"\"}}}],\"bar\":[{\"error_x\":{\"color\":\"#2a3f5f\"},\"error_y\":{\"color\":\"#2a3f5f\"},\"marker\":{\"line\":{\"color\":\"#E5ECF6\",\"width\":0.5},\"pattern\":{\"fillmode\":\"overlay\",\"size\":10,\"solidity\":0.2}},\"type\":\"bar\"}],\"scattergeo\":[{\"type\":\"scattergeo\",\"marker\":{\"colorbar\":{\"outlinewidth\":0,\"ticks\":\"\"}}}],\"scatterpolar\":[{\"type\":\"scatterpolar\",\"marker\":{\"colorbar\":{\"outlinewidth\":0,\"ticks\":\"\"}}}],\"histogram\":[{\"marker\":{\"pattern\":{\"fillmode\":\"overlay\",\"size\":10,\"solidity\":0.2}},\"type\":\"histogram\"}],\"scattergl\":[{\"type\":\"scattergl\",\"marker\":{\"colorbar\":{\"outlinewidth\":0,\"ticks\":\"\"}}}],\"scatter3d\":[{\"type\":\"scatter3d\",\"line\":{\"colorbar\":{\"outlinewidth\":0,\"ticks\":\"\"}},\"marker\":{\"colorbar\":{\"outlinewidth\":0,\"ticks\":\"\"}}}],\"scattermapbox\":[{\"type\":\"scattermapbox\",\"marker\":{\"colorbar\":{\"outlinewidth\":0,\"ticks\":\"\"}}}],\"scatterternary\":[{\"type\":\"scatterternary\",\"marker\":{\"colorbar\":{\"outlinewidth\":0,\"ticks\":\"\"}}}],\"scattercarpet\":[{\"type\":\"scattercarpet\",\"marker\":{\"colorbar\":{\"outlinewidth\":0,\"ticks\":\"\"}}}],\"carpet\":[{\"aaxis\":{\"endlinecolor\":\"#2a3f5f\",\"gridcolor\":\"white\",\"linecolor\":\"white\",\"minorgridcolor\":\"white\",\"startlinecolor\":\"#2a3f5f\"},\"baxis\":{\"endlinecolor\":\"#2a3f5f\",\"gridcolor\":\"white\",\"linecolor\":\"white\",\"minorgridcolor\":\"white\",\"startlinecolor\":\"#2a3f5f\"},\"type\":\"carpet\"}],\"table\":[{\"cells\":{\"fill\":{\"color\":\"#EBF0F8\"},\"line\":{\"color\":\"white\"}},\"header\":{\"fill\":{\"color\":\"#C8D4E3\"},\"line\":{\"color\":\"white\"}},\"type\":\"table\"}],\"barpolar\":[{\"marker\":{\"line\":{\"color\":\"#E5ECF6\",\"width\":0.5},\"pattern\":{\"fillmode\":\"overlay\",\"size\":10,\"solidity\":0.2}},\"type\":\"barpolar\"}],\"pie\":[{\"automargin\":true,\"type\":\"pie\"}]},\"layout\":{\"autotypenumbers\":\"strict\",\"colorway\":[\"#636efa\",\"#EF553B\",\"#00cc96\",\"#ab63fa\",\"#FFA15A\",\"#19d3f3\",\"#FF6692\",\"#B6E880\",\"#FF97FF\",\"#FECB52\"],\"font\":{\"color\":\"#2a3f5f\"},\"hovermode\":\"closest\",\"hoverlabel\":{\"align\":\"left\"},\"paper_bgcolor\":\"white\",\"plot_bgcolor\":\"#E5ECF6\",\"polar\":{\"bgcolor\":\"#E5ECF6\",\"angularaxis\":{\"gridcolor\":\"white\",\"linecolor\":\"white\",\"ticks\":\"\"},\"radialaxis\":{\"gridcolor\":\"white\",\"linecolor\":\"white\",\"ticks\":\"\"}},\"ternary\":{\"bgcolor\":\"#E5ECF6\",\"aaxis\":{\"gridcolor\":\"white\",\"linecolor\":\"white\",\"ticks\":\"\"},\"baxis\":{\"gridcolor\":\"white\",\"linecolor\":\"white\",\"ticks\":\"\"},\"caxis\":{\"gridcolor\":\"white\",\"linecolor\":\"white\",\"ticks\":\"\"}},\"coloraxis\":{\"colorbar\":{\"outlinewidth\":0,\"ticks\":\"\"}},\"colorscale\":{\"sequential\":[[0.0,\"#0d0887\"],[0.1111111111111111,\"#46039f\"],[0.2222222222222222,\"#7201a8\"],[0.3333333333333333,\"#9c179e\"],[0.4444444444444444,\"#bd3786\"],[0.5555555555555556,\"#d8576b\"],[0.6666666666666666,\"#ed7953\"],[0.7777777777777778,\"#fb9f3a\"],[0.8888888888888888,\"#fdca26\"],[1.0,\"#f0f921\"]],\"sequentialminus\":[[0.0,\"#0d0887\"],[0.1111111111111111,\"#46039f\"],[0.2222222222222222,\"#7201a8\"],[0.3333333333333333,\"#9c179e\"],[0.4444444444444444,\"#bd3786\"],[0.5555555555555556,\"#d8576b\"],[0.6666666666666666,\"#ed7953\"],[0.7777777777777778,\"#fb9f3a\"],[0.8888888888888888,\"#fdca26\"],[1.0,\"#f0f921\"]],\"diverging\":[[0,\"#8e0152\"],[0.1,\"#c51b7d\"],[0.2,\"#de77ae\"],[0.3,\"#f1b6da\"],[0.4,\"#fde0ef\"],[0.5,\"#f7f7f7\"],[0.6,\"#e6f5d0\"],[0.7,\"#b8e186\"],[0.8,\"#7fbc41\"],[0.9,\"#4d9221\"],[1,\"#276419\"]]},\"xaxis\":{\"gridcolor\":\"white\",\"linecolor\":\"white\",\"ticks\":\"\",\"title\":{\"standoff\":15},\"zerolinecolor\":\"white\",\"automargin\":true,\"zerolinewidth\":2},\"yaxis\":{\"gridcolor\":\"white\",\"linecolor\":\"white\",\"ticks\":\"\",\"title\":{\"standoff\":15},\"zerolinecolor\":\"white\",\"automargin\":true,\"zerolinewidth\":2},\"scene\":{\"xaxis\":{\"backgroundcolor\":\"#E5ECF6\",\"gridcolor\":\"white\",\"linecolor\":\"white\",\"showbackground\":true,\"ticks\":\"\",\"zerolinecolor\":\"white\",\"gridwidth\":2},\"yaxis\":{\"backgroundcolor\":\"#E5ECF6\",\"gridcolor\":\"white\",\"linecolor\":\"white\",\"showbackground\":true,\"ticks\":\"\",\"zerolinecolor\":\"white\",\"gridwidth\":2},\"zaxis\":{\"backgroundcolor\":\"#E5ECF6\",\"gridcolor\":\"white\",\"linecolor\":\"white\",\"showbackground\":true,\"ticks\":\"\",\"zerolinecolor\":\"white\",\"gridwidth\":2}},\"shapedefaults\":{\"line\":{\"color\":\"#2a3f5f\"}},\"annotationdefaults\":{\"arrowcolor\":\"#2a3f5f\",\"arrowhead\":0,\"arrowwidth\":1},\"geo\":{\"bgcolor\":\"white\",\"landcolor\":\"#E5ECF6\",\"subunitcolor\":\"white\",\"showland\":true,\"showlakes\":true,\"lakecolor\":\"white\"},\"title\":{\"x\":0.05},\"mapbox\":{\"style\":\"light\"}}},\"shapes\":[{\"fillcolor\":\"white\",\"line\":{\"color\":\"black\",\"width\":4},\"opacity\":0.2,\"type\":\"rect\",\"x0\":0,\"x1\":10,\"y0\":0,\"y1\":10},{\"fillcolor\":\"orange\",\"line\":{\"color\":\"blue\",\"width\":2},\"opacity\":0.5,\"type\":\"rect\",\"x0\":0.0,\"x1\":1.0,\"y0\":0.0,\"y1\":3.0},{\"fillcolor\":\"lightblue\",\"line\":{\"color\":\"blue\",\"width\":2},\"opacity\":0.5,\"type\":\"rect\",\"x0\":0.0,\"x1\":4.0,\"y0\":3.0,\"y1\":5.0},{\"fillcolor\":\"orange\",\"line\":{\"color\":\"blue\",\"width\":2},\"opacity\":0.5,\"type\":\"rect\",\"x0\":0.0,\"x1\":1.0,\"y0\":5.0,\"y1\":8.0},{\"fillcolor\":\"red\",\"line\":{\"color\":\"blue\",\"width\":2},\"opacity\":0.5,\"type\":\"rect\",\"x0\":0.0,\"x1\":1.0,\"y0\":9.0,\"y1\":10.0},{\"fillcolor\":\"orange\",\"line\":{\"color\":\"blue\",\"width\":2},\"opacity\":0.5,\"type\":\"rect\",\"x0\":1.0,\"x1\":2.0,\"y0\":0.0,\"y1\":3.0},{\"fillcolor\":\"red\",\"line\":{\"color\":\"blue\",\"width\":2},\"opacity\":0.5,\"type\":\"rect\",\"x0\":1.0,\"x1\":2.0,\"y0\":5.0,\"y1\":6.0},{\"fillcolor\":\"purple\",\"line\":{\"color\":\"blue\",\"width\":2},\"opacity\":0.5,\"type\":\"rect\",\"x0\":1.0,\"x1\":4.0,\"y0\":6.0,\"y1\":9.0},{\"fillcolor\":\"red\",\"line\":{\"color\":\"blue\",\"width\":2},\"opacity\":0.5,\"type\":\"rect\",\"x0\":1.0,\"x1\":2.0,\"y0\":9.0,\"y1\":10.0},{\"fillcolor\":\"orange\",\"line\":{\"color\":\"blue\",\"width\":2},\"opacity\":0.5,\"type\":\"rect\",\"x0\":2.0,\"x1\":3.0,\"y0\":0.0,\"y1\":3.0},{\"fillcolor\":\"orange\",\"line\":{\"color\":\"blue\",\"width\":2},\"opacity\":0.5,\"type\":\"rect\",\"x0\":2.0,\"x1\":5.0,\"y0\":5.0,\"y1\":6.0},{\"fillcolor\":\"purple\",\"line\":{\"color\":\"blue\",\"width\":2},\"opacity\":0.5,\"type\":\"rect\",\"x0\":3.0,\"x1\":6.0,\"y0\":0.0,\"y1\":3.0},{\"fillcolor\":\"red\",\"line\":{\"color\":\"blue\",\"width\":2},\"opacity\":0.5,\"type\":\"rect\",\"x0\":3.0,\"x1\":4.0,\"y0\":9.0,\"y1\":10.0},{\"fillcolor\":\"lightblue\",\"line\":{\"color\":\"blue\",\"width\":2},\"opacity\":0.5,\"type\":\"rect\",\"x0\":4.0,\"x1\":8.0,\"y0\":3.0,\"y1\":5.0},{\"fillcolor\":\"lightgreen\",\"line\":{\"color\":\"blue\",\"width\":2},\"opacity\":0.5,\"type\":\"rect\",\"x0\":4.0,\"x1\":10.0,\"y0\":6.0,\"y1\":8.0},{\"fillcolor\":\"lightgreen\",\"line\":{\"color\":\"blue\",\"width\":2},\"opacity\":0.5,\"type\":\"rect\",\"x0\":4.0,\"x1\":10.0,\"y0\":8.0,\"y1\":10.0},{\"fillcolor\":\"purple\",\"line\":{\"color\":\"blue\",\"width\":2},\"opacity\":0.5,\"type\":\"rect\",\"x0\":6.0,\"x1\":9.0,\"y0\":0.0,\"y1\":3.0},{\"fillcolor\":\"red\",\"line\":{\"color\":\"blue\",\"width\":2},\"opacity\":0.5,\"type\":\"rect\",\"x0\":8.0,\"x1\":9.0,\"y0\":3.0,\"y1\":4.0},{\"fillcolor\":\"orange\",\"line\":{\"color\":\"blue\",\"width\":2},\"opacity\":0.5,\"type\":\"rect\",\"x0\":9.0,\"x1\":10.0,\"y0\":0.0,\"y1\":3.0},{\"fillcolor\":\"orange\",\"line\":{\"color\":\"blue\",\"width\":2},\"opacity\":0.5,\"type\":\"rect\",\"x0\":9.0,\"x1\":10.0,\"y0\":3.0,\"y1\":6.0}],\"xaxis\":{\"range\":[-1,11]},\"yaxis\":{\"range\":[-1,11]},\"title\":{\"text\":\"Bin Packing\"},\"showlegend\":false,\"width\":700,\"height\":700,\"plot_bgcolor\":\"white\",\"updatemenus\":[{\"buttons\":[{\"args\":[null,{\"frame\":{\"duration\":1000,\"redraw\":true},\"fromcurrent\":true}],\"label\":\"Play\",\"method\":\"animate\"}],\"type\":\"buttons\",\"x\":0.1,\"xanchor\":\"right\",\"y\":0,\"yanchor\":\"bottom\"}]},                        {\"responsive\": true}                    ).then(function(){\n",
       "                            Plotly.addFrames('4f95b3b9-9416-4632-8652-d5bc5f7bbb1b', [{\"data\":[{\"mode\":\"markers\",\"x\":[0],\"y\":[0],\"type\":\"scatter\"}],\"name\":\"Frame_0\"},{\"data\":[{\"mode\":\"markers\",\"x\":[0],\"y\":[0],\"type\":\"scatter\"}],\"name\":\"Frame_1\"},{\"data\":[{\"mode\":\"markers\",\"x\":[0],\"y\":[0],\"type\":\"scatter\"}],\"name\":\"Frame_2\"},{\"data\":[{\"mode\":\"markers\",\"x\":[0],\"y\":[0],\"type\":\"scatter\"}],\"name\":\"Frame_3\"},{\"data\":[{\"mode\":\"markers\",\"x\":[0],\"y\":[0],\"type\":\"scatter\"}],\"name\":\"Frame_4\"},{\"data\":[{\"mode\":\"markers\",\"x\":[0],\"y\":[0],\"type\":\"scatter\"}],\"name\":\"Frame_5\"},{\"data\":[{\"mode\":\"markers\",\"x\":[0],\"y\":[0],\"type\":\"scatter\"}],\"name\":\"Frame_6\"},{\"data\":[{\"mode\":\"markers\",\"x\":[0],\"y\":[0],\"type\":\"scatter\"}],\"name\":\"Frame_7\"},{\"data\":[{\"mode\":\"markers\",\"x\":[0],\"y\":[0],\"type\":\"scatter\"}],\"name\":\"Frame_8\"},{\"data\":[{\"mode\":\"markers\",\"x\":[0],\"y\":[0],\"type\":\"scatter\"}],\"name\":\"Frame_9\"},{\"data\":[{\"mode\":\"markers\",\"x\":[0],\"y\":[0],\"type\":\"scatter\"}],\"name\":\"Frame_10\"},{\"data\":[{\"mode\":\"markers\",\"x\":[0],\"y\":[0],\"type\":\"scatter\"}],\"name\":\"Frame_11\"},{\"data\":[{\"mode\":\"markers\",\"x\":[0],\"y\":[0],\"type\":\"scatter\"}],\"name\":\"Frame_12\"},{\"data\":[{\"mode\":\"markers\",\"x\":[0],\"y\":[0],\"type\":\"scatter\"}],\"name\":\"Frame_13\"},{\"data\":[{\"mode\":\"markers\",\"x\":[0],\"y\":[0],\"type\":\"scatter\"}],\"name\":\"Frame_14\"},{\"data\":[{\"mode\":\"markers\",\"x\":[0],\"y\":[0],\"type\":\"scatter\"}],\"name\":\"Frame_15\"},{\"data\":[{\"mode\":\"markers\",\"x\":[0],\"y\":[0],\"type\":\"scatter\"}],\"name\":\"Frame_16\"},{\"data\":[{\"mode\":\"markers\",\"x\":[0],\"y\":[0],\"type\":\"scatter\"}],\"name\":\"Frame_17\"},{\"data\":[{\"mode\":\"markers\",\"x\":[0],\"y\":[0],\"type\":\"scatter\"}],\"name\":\"Frame_18\"}]);\n",
       "                        }).then(function(){\n",
       "                            \n",
       "var gd = document.getElementById('4f95b3b9-9416-4632-8652-d5bc5f7bbb1b');\n",
       "var x = new MutationObserver(function (mutations, observer) {{\n",
       "        var display = window.getComputedStyle(gd).display;\n",
       "        if (!display || display === 'none') {{\n",
       "            console.log([gd, 'removed!']);\n",
       "            Plotly.purge(gd);\n",
       "            observer.disconnect();\n",
       "        }}\n",
       "}});\n",
       "\n",
       "// Listen for the removal of the full notebook cells\n",
       "var notebookContainer = gd.closest('#notebook-container');\n",
       "if (notebookContainer) {{\n",
       "    x.observe(notebookContainer, {childList: true});\n",
       "}}\n",
       "\n",
       "// Listen for the clearing of the current output cell\n",
       "var outputEl = gd.closest('.output');\n",
       "if (outputEl) {{\n",
       "    x.observe(outputEl, {childList: true});\n",
       "}}\n",
       "\n",
       "                        })                };                });            </script>        </div>"
      ]
     },
     "metadata": {},
     "output_type": "display_data"
    },
    {
     "name": "stdout",
     "output_type": "stream",
     "text": [
      "GIF guardado como: 2DBPP_v2.gif\n"
     ]
    }
   ],
   "source": [
    "import pandas as pd\n",
    "import plotly.graph_objects as go\n",
    "from PIL import Image\n",
    "import os\n",
    "\n",
    "colores = {\n",
    "    'A':'orange',\n",
    "    'B':'lightgreen', \n",
    "    'C':'purple', \n",
    "    'D':'lightblue',\n",
    "    'E':'red'\n",
    "}\n",
    "# Crear la figura\n",
    "fig = go.Figure()\n",
    "\n",
    "# Agregar el contenedor como un rectángulo grande\n",
    "fig.add_shape(\n",
    "    type=\"rect\",\n",
    "    x0=0, y0=0, x1=ancho_maximo, y1=largo_maximo,\n",
    "    line=dict(color=\"black\", width=4),\n",
    "    fillcolor=\"white\",\n",
    "    opacity=0.2\n",
    ")\n",
    "\n",
    "# Configurar la animación\n",
    "fig.update_layout(\n",
    "    title=\"Bin Packing\",\n",
    "    showlegend=False,\n",
    "    width=700,\n",
    "    height=700,\n",
    "    xaxis=dict(range=[-1,ancho_maximo+1]),\n",
    "    yaxis=dict(range=[-1,largo_maximo+1]),\n",
    "    plot_bgcolor=\"white\",\n",
    "    updatemenus=[dict(\n",
    "        type=\"buttons\",\n",
    "        x=0.1,\n",
    "        xanchor=\"right\",\n",
    "        y=0,\n",
    "        yanchor=\"bottom\",\n",
    "        buttons=[dict(\n",
    "            label=\"Play\",\n",
    "            method=\"animate\",\n",
    "            args=[None, dict(frame=dict(duration=1000, redraw=True), fromcurrent=True)]\n",
    "        )]\n",
    "    )]\n",
    ")\n",
    "\n",
    "# Crear el directorio para guardar los frames\n",
    "output_dir = \"frames\"\n",
    "os.makedirs(output_dir, exist_ok=True)\n",
    "\n",
    "# Crear la animación\n",
    "frames = []\n",
    "for i in range(len(output)):\n",
    "    tipo_articulo = output['articulo'][i]\n",
    "    # Agregar un rectángulo por cada frame\n",
    "    fig.add_shape(\n",
    "        type=\"rect\",\n",
    "        x0=output['x'][i], y0=output['y'][i],\n",
    "        x1=output['x'][i] + output['ancho_aux'][i], y1=output['y'][i] + output['largo_aux'][i],\n",
    "        line=dict(color=\"blue\", width=2),\n",
    "        fillcolor=colores[tipo_articulo[0]],  # Asignar color a cada vehículo,\n",
    "        opacity=0.5,\n",
    "        #label = tipo_articulo,\n",
    "\n",
    "    )\n",
    "    \n",
    "    # Guardar cada frame como imagen\n",
    "    fig.write_image(f\"{output_dir}/frame_{i}.png\")\n",
    "    \n",
    "    # Crear un frame para la animación\n",
    "    frames.append(go.Frame(\n",
    "        data=[go.Scatter(x=[0], y=[0], mode=\"markers\")],\n",
    "        name=f\"Frame_{i}\"\n",
    "    ))\n",
    "\n",
    "# Asignar los frames a la figura para la animación\n",
    "    fig.frames = frames\n",
    "\n",
    "# Mostrar la figura\n",
    "fig.show()\n",
    "\n",
    "# Convertir las imágenes a un GIF usando Pillow\n",
    "frames = []\n",
    "for i in range(len(output)):\n",
    "    frame_path = f\"{output_dir}/frame_{i}.png\"\n",
    "    img = Image.open(frame_path)\n",
    "    frames.append(img)\n",
    "\n",
    "# Guardar el GIF\n",
    "gif_output_path = \"2DBPP_v2.gif\"\n",
    "frames[0].save(gif_output_path, save_all=True, append_images=frames[1:], duration=1000, loop=0)\n",
    "\n",
    "# Limpiar los archivos temporales (imágenes de los frames)\n",
    "for i in range(len(output)):\n",
    "    os.remove(f\"{output_dir}/frame_{i}.png\")\n",
    "\n",
    "print(f\"GIF guardado como: {gif_output_path}\")\n"
   ]
  }
 ],
 "metadata": {
  "kernelspec": {
   "display_name": "Python 3 (ipykernel)",
   "language": "python",
   "name": "python3"
  },
  "language_info": {
   "codemirror_mode": {
    "name": "ipython",
    "version": 3
   },
   "file_extension": ".py",
   "mimetype": "text/x-python",
   "name": "python",
   "nbconvert_exporter": "python",
   "pygments_lexer": "ipython3",
   "version": "3.11.4"
  }
 },
 "nbformat": 4,
 "nbformat_minor": 5
}
